{
 "cells": [
  {
   "cell_type": "code",
   "execution_count": 36,
   "id": "080446ac",
   "metadata": {},
   "outputs": [
    {
     "name": "stdout",
     "output_type": "stream",
     "text": [
      " Enter city name : delhi\n",
      " Temperature (in kelvin unit) = 309.2\n",
      " Atmospheric pressure (in hPa unit) = 1002\n",
      " Humidity (in percentage) = 28\n",
      " description = haze \n",
      " Temprature(in °C)=36.05000000000001\n"
     ]
    }
   ],
   "source": [
    "# import required modules\n",
    "import requests, json\n",
    " \n",
    "# API key\n",
    "api_key = \"4dc61e91f0978ae0d219dcd35922f5cb\"\n",
    " \n",
    "# base_url variable to store url\n",
    "base_url = \"http://api.openweathermap.org/data/2.5/weather?\"\n",
    " \n",
    "# Enter city name\n",
    "city_name = input(\" Enter city name : \")\n",
    " \n",
    "# complete_url variable to store\n",
    "# complete url address\n",
    "complete_url = base_url + \"appid=\" + api_key + \"&q=\" + city_name\n",
    " \n",
    "# get method of requests module\n",
    "# return response object\n",
    "response = requests.get(complete_url)\n",
    " \n",
    "# json method of response object\n",
    "# convert json format data into\n",
    "# python format data\n",
    "x = response.json()\n",
    " \n",
    "# Now x contains list of nested dictionaries\n",
    "# Check the value of \"cod\" key is equal to\n",
    "# \"404\", means city is found otherwise,\n",
    "# city is not found\n",
    "if x[\"cod\"] != \"404\":\n",
    " \n",
    "    # store the value of \"main\"\n",
    "    # key in variable y\n",
    "    y= x[\"main\"]\n",
    " \n",
    "    # store the value corresponding\n",
    "    # to the \"temp\" key of y\n",
    "    current_temperature = y[\"temp\"]\n",
    "    temperature_calcius=current_temperature-273.15\n",
    "    \n",
    " \n",
    "    # store the value corresponding\n",
    "    # to the \"pressure\" key of y\n",
    "    current_pressure = y[\"pressure\"]\n",
    " \n",
    "    # store the value corresponding\n",
    "    # to the \"humidity\" key of y\n",
    "    current_humidity = y[\"humidity\"]\n",
    " \n",
    "    # store the value of \"weather\"\n",
    "    # key in variable z\n",
    "    z = x[\"weather\"]\n",
    " \n",
    "    # store the value corresponding\n",
    "    # to the \"description\" key at\n",
    "    # the 0th index of z\n",
    "    weather_description = z[0][\"description\"]\n",
    " \n",
    "    # print following values\n",
    "    print(\" Temperature (in kelvin unit) = \" +\n",
    "                    str(current_temperature) +\n",
    "          \"\\n Atmospheric pressure (in hPa unit) = \" +\n",
    "                    str(current_pressure) +\n",
    "          \"\\n Humidity (in percentage) = \" +\n",
    "                    str(current_humidity) +\n",
    "          \"\\n description = \" +\n",
    "                    str(weather_description),\n",
    "          \"\\n Temprature(in °C)=\"+str(temperature_calcius))\n",
    "else:\n",
    "    print(\" City Not Found \")"
   ]
  },
  {
   "cell_type": "code",
   "execution_count": 4,
   "id": "91a32d36",
   "metadata": {},
   "outputs": [],
   "source": []
  },
  {
   "cell_type": "code",
   "execution_count": 37,
   "id": "d8de1b0e",
   "metadata": {},
   "outputs": [
    {
     "data": {
      "text/plain": [
       "{'temp': 309.2,\n",
       " 'feels_like': 308.91,\n",
       " 'temp_min': 309.2,\n",
       " 'temp_max': 309.2,\n",
       " 'pressure': 1002,\n",
       " 'humidity': 28}"
      ]
     },
     "execution_count": 37,
     "metadata": {},
     "output_type": "execute_result"
    }
   ],
   "source": [
    "y"
   ]
  },
  {
   "cell_type": "code",
   "execution_count": null,
   "id": "ec09a8c5",
   "metadata": {},
   "outputs": [],
   "source": []
  }
 ],
 "metadata": {
  "kernelspec": {
   "display_name": "Python 3 (ipykernel)",
   "language": "python",
   "name": "python3"
  },
  "language_info": {
   "codemirror_mode": {
    "name": "ipython",
    "version": 3
   },
   "file_extension": ".py",
   "mimetype": "text/x-python",
   "name": "python",
   "nbconvert_exporter": "python",
   "pygments_lexer": "ipython3",
   "version": "3.10.6"
  }
 },
 "nbformat": 4,
 "nbformat_minor": 5
}
